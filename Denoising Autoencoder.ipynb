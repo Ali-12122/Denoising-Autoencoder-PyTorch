{
 "cells": [
  {
   "cell_type": "code",
   "execution_count": 1,
   "id": "e124e605",
   "metadata": {},
   "outputs": [],
   "source": [
    "import torch\n",
    "import torchvision # torch package for vision related things\n",
    "import torch.nn.functional as F  # Parameterless functions, like (some) activation functions\n",
    "import torchvision.datasets as datasets  # Standard datasets\n",
    "import torchvision.transforms as transforms  # Transformations we can perform on our dataset for augmentation\n",
    "from torch import optim  # For optimizers like SGD, Adam, etc.\n",
    "from torch import nn  # All neural network modules\n",
    "from torch.utils.data import DataLoader  # Gives easier dataset managment by creating mini batches etc.\n",
    "from tqdm import tqdm  # For nice progress bar!"
   ]
  },
  {
   "cell_type": "code",
   "execution_count": 2,
   "id": "65294095",
   "metadata": {},
   "outputs": [],
   "source": [
    "import os\n",
    "import pandas as pd\n",
    "from torchvision.io import read_image\n",
    "from torch.utils.data import Dataset\n",
    "\n",
    "class Cats_Vs_Dogs_Dataset(Dataset):\n",
    "    def __init__(self, img_dir, transform=None, target_transform=None):\n",
    "        self.img_labels = img_dir\n",
    "        self.img_dir = img_dir\n",
    "        self.transform = transform\n",
    "        self.target_transform = target_transform\n",
    "\n",
    "    def __len__(self):\n",
    "        return len(os.listdir(self.img_dir))\n",
    "\n",
    "    def __getitem__(self, idx):\n",
    "        img_path = os.path.join(self.img_dir, str(idx) + \".jpg\")\n",
    "        resize = transforms.Resize(size=(128, 128))\n",
    "        image = resize(read_image(img_path))\n",
    "        label = image\n",
    "        if self.transform:\n",
    "            image = self.transform(image)\n",
    "        if self.target_transform:\n",
    "            label = self.target_transform(label)\n",
    "        return image, label"
   ]
  },
  {
   "cell_type": "code",
   "execution_count": 19,
   "id": "1cacb873",
   "metadata": {},
   "outputs": [],
   "source": [
    "learning_rate = 0.01\n",
    "batch_size = 16\n",
    "num_epochs = 25"
   ]
  },
  {
   "cell_type": "code",
   "execution_count": 20,
   "id": "43de44af",
   "metadata": {},
   "outputs": [],
   "source": [
    "train_set = Cats_Vs_Dogs_Dataset(img_dir=r\"E:\\\\College\\\\FCAI-4th Year\\\\First Term\\\\Generative Adversarial Networks\\\\Assginments\\\\Assginment 3\\\\train_modified\\\\train_small\")\n",
    "test_set = Cats_Vs_Dogs_Dataset(img_dir=r\"E:\\\\College\\\\FCAI-4th Year\\\\First Term\\\\Generative Adversarial Networks\\\\Assginments\\\\Assginment 3\\\\test_modified\\\\test1\")\n",
    "train_loader = DataLoader(dataset=train_set, batch_size=batch_size, shuffle=True)\n",
    "test_loader = DataLoader(dataset=test_set, batch_size=batch_size, shuffle=True)"
   ]
  },
  {
   "cell_type": "code",
   "execution_count": 21,
   "id": "40581b23",
   "metadata": {},
   "outputs": [],
   "source": [
    "def conv(ni, nf): return nn.Conv2d(ni, nf, kernel_size=3, stride=1, padding='same')\n",
    "def pool(): return nn.MaxPool2d(kernel_size=2, stride=2)\n",
    "def conv1x1(ni, nf): return nn.Conv2d(ni, nf, kernel_size=1, stride=1, padding='same')\n",
    "def bn(ni): return nn.BatchNorm2d(ni)\n",
    "def up(): return nn.Upsample(scale_factor=2)"
   ]
  },
  {
   "cell_type": "code",
   "execution_count": 22,
   "id": "42101051",
   "metadata": {},
   "outputs": [],
   "source": [
    "def down_stage(ni, nf):\n",
    "    return nn.Sequential(\n",
    "        pool(),\n",
    "        conv(ni, nf),\n",
    "        nn.ReLU(inplace=True),\n",
    "        bn(nf),\n",
    "        conv(nf, nf),\n",
    "        nn.ReLU(inplace=True)\n",
    "    )\n",
    "\n",
    "def up_stage(ni, nf):\n",
    "    return nn.Sequential(\n",
    "        up(),\n",
    "        conv(ni, nf),\n",
    "        nn.ReLU(inplace=True),\n",
    "        bn(nf),\n",
    "        conv(nf, nf),\n",
    "        nn.ReLU(inplace=True)\n",
    "    )"
   ]
  },
  {
   "cell_type": "code",
   "execution_count": 23,
   "id": "ab976876",
   "metadata": {},
   "outputs": [],
   "source": [
    "class Autoencoder(nn.Module):\n",
    "    def __init__(self):\n",
    "        super().__init__()\n",
    "        \n",
    "        # Encoder\n",
    "        self.encoder = nn.Sequential(\n",
    "        conv(3, 32), # 128\n",
    "        down_stage(32, 64), # 64\n",
    "        down_stage(64, 128),\n",
    "        )\n",
    "        \n",
    "        # Decoder\n",
    "        self.decoder = nn.Sequential(\n",
    "        up_stage(128, 64),\n",
    "        up_stage(64, 32), # 128\n",
    "        conv(32, 16), # 128\n",
    "        conv1x1(16, 3) # 128\n",
    "        )\n",
    "        \n",
    "        self.test = False\n",
    "    def forward(self, x):\n",
    "        x = self.encoder(x)\n",
    "        if self.test: x += torch.normal(0, 35, size=x.size)\n",
    "        x = self.decoder(x)\n",
    "        return x"
   ]
  },
  {
   "cell_type": "code",
   "execution_count": 24,
   "id": "f3a696e9",
   "metadata": {},
   "outputs": [],
   "source": [
    "model = Autoencoder()"
   ]
  },
  {
   "cell_type": "code",
   "execution_count": 25,
   "id": "baf93679",
   "metadata": {
    "scrolled": false
   },
   "outputs": [
    {
     "data": {
      "text/plain": [
       "==========================================================================================\n",
       "Layer (type:depth-idx)                   Output Shape              Param #\n",
       "==========================================================================================\n",
       "Autoencoder                              [16, 3, 128, 128]         --\n",
       "├─Sequential: 1-1                        [16, 128, 32, 32]         --\n",
       "│    └─Conv2d: 2-1                       [16, 32, 128, 128]        896\n",
       "│    └─Sequential: 2-2                   [16, 64, 64, 64]          --\n",
       "│    │    └─MaxPool2d: 3-1               [16, 32, 64, 64]          --\n",
       "│    │    └─Conv2d: 3-2                  [16, 64, 64, 64]          18,496\n",
       "│    │    └─ReLU: 3-3                    [16, 64, 64, 64]          --\n",
       "│    │    └─BatchNorm2d: 3-4             [16, 64, 64, 64]          128\n",
       "│    │    └─Conv2d: 3-5                  [16, 64, 64, 64]          36,928\n",
       "│    │    └─ReLU: 3-6                    [16, 64, 64, 64]          --\n",
       "│    └─Sequential: 2-3                   [16, 128, 32, 32]         --\n",
       "│    │    └─MaxPool2d: 3-7               [16, 64, 32, 32]          --\n",
       "│    │    └─Conv2d: 3-8                  [16, 128, 32, 32]         73,856\n",
       "│    │    └─ReLU: 3-9                    [16, 128, 32, 32]         --\n",
       "│    │    └─BatchNorm2d: 3-10            [16, 128, 32, 32]         256\n",
       "│    │    └─Conv2d: 3-11                 [16, 128, 32, 32]         147,584\n",
       "│    │    └─ReLU: 3-12                   [16, 128, 32, 32]         --\n",
       "├─Sequential: 1-2                        [16, 3, 128, 128]         --\n",
       "│    └─Sequential: 2-4                   [16, 64, 64, 64]          --\n",
       "│    │    └─Upsample: 3-13               [16, 128, 64, 64]         --\n",
       "│    │    └─Conv2d: 3-14                 [16, 64, 64, 64]          73,792\n",
       "│    │    └─ReLU: 3-15                   [16, 64, 64, 64]          --\n",
       "│    │    └─BatchNorm2d: 3-16            [16, 64, 64, 64]          128\n",
       "│    │    └─Conv2d: 3-17                 [16, 64, 64, 64]          36,928\n",
       "│    │    └─ReLU: 3-18                   [16, 64, 64, 64]          --\n",
       "│    └─Sequential: 2-5                   [16, 32, 128, 128]        --\n",
       "│    │    └─Upsample: 3-19               [16, 64, 128, 128]        --\n",
       "│    │    └─Conv2d: 3-20                 [16, 32, 128, 128]        18,464\n",
       "│    │    └─ReLU: 3-21                   [16, 32, 128, 128]        --\n",
       "│    │    └─BatchNorm2d: 3-22            [16, 32, 128, 128]        64\n",
       "│    │    └─Conv2d: 3-23                 [16, 32, 128, 128]        9,248\n",
       "│    │    └─ReLU: 3-24                   [16, 32, 128, 128]        --\n",
       "│    └─Conv2d: 2-6                       [16, 16, 128, 128]        4,624\n",
       "│    └─Conv2d: 2-7                       [16, 3, 128, 128]         51\n",
       "==========================================================================================\n",
       "Total params: 421,443\n",
       "Trainable params: 421,443\n",
       "Non-trainable params: 0\n",
       "Total mult-adds (G): 23.24\n",
       "==========================================================================================\n",
       "Input size (MB): 3.15\n",
       "Forward/backward pass size (MB): 559.94\n",
       "Params size (MB): 1.69\n",
       "Estimated Total Size (MB): 564.77\n",
       "=========================================================================================="
      ]
     },
     "execution_count": 25,
     "metadata": {},
     "output_type": "execute_result"
    }
   ],
   "source": [
    "from torchinfo import summary\n",
    "\n",
    "model = model\n",
    "batch_size = 16\n",
    "summary(model, input_size=(batch_size, 3, 128, 128))"
   ]
  },
  {
   "cell_type": "code",
   "execution_count": 26,
   "id": "377231f9",
   "metadata": {},
   "outputs": [],
   "source": [
    "device = torch.device(\"cuda\" if torch.cuda.is_available() else \"cpu\")"
   ]
  },
  {
   "cell_type": "code",
   "execution_count": 27,
   "id": "51281eaa",
   "metadata": {},
   "outputs": [],
   "source": [
    "model = model.to(device)"
   ]
  },
  {
   "cell_type": "code",
   "execution_count": 28,
   "id": "2ff19a10",
   "metadata": {},
   "outputs": [],
   "source": [
    "criterion = nn.MSELoss()\n",
    "optimizer = optim.Adam(model.parameters(), lr=learning_rate, weight_decay=1e-5)\n",
    "scheduler = torch.optim.lr_scheduler.OneCycleLR(optimizer, max_lr=0.1, steps_per_epoch=len(train_loader), epochs=num_epochs)"
   ]
  },
  {
   "cell_type": "code",
   "execution_count": 29,
   "id": "c30abd03",
   "metadata": {},
   "outputs": [],
   "source": [
    "torch.cuda.empty_cache()"
   ]
  },
  {
   "cell_type": "code",
   "execution_count": 57,
   "id": "028456fe",
   "metadata": {
    "scrolled": true
   },
   "outputs": [
    {
     "name": "stderr",
     "output_type": "stream",
     "text": [
      "100%|██████████████████████████████████████████████████████████████████████████████████| 48/48 [00:32<00:00,  1.46it/s]\n"
     ]
    },
    {
     "name": "stdout",
     "output_type": "stream",
     "text": [
      "Epoch:1, Loss:389.6310\n"
     ]
    },
    {
     "name": "stderr",
     "output_type": "stream",
     "text": [
      "100%|██████████████████████████████████████████████████████████████████████████████████| 48/48 [00:48<00:00,  1.02s/it]\n"
     ]
    },
    {
     "name": "stdout",
     "output_type": "stream",
     "text": [
      "Epoch:2, Loss:673.6208\n"
     ]
    },
    {
     "name": "stderr",
     "output_type": "stream",
     "text": [
      "100%|██████████████████████████████████████████████████████████████████████████████████| 48/48 [00:48<00:00,  1.02s/it]\n"
     ]
    },
    {
     "name": "stdout",
     "output_type": "stream",
     "text": [
      "Epoch:3, Loss:406.6981\n"
     ]
    },
    {
     "name": "stderr",
     "output_type": "stream",
     "text": [
      "100%|██████████████████████████████████████████████████████████████████████████████████| 48/48 [00:48<00:00,  1.02s/it]\n"
     ]
    },
    {
     "name": "stdout",
     "output_type": "stream",
     "text": [
      "Epoch:4, Loss:291.7695\n"
     ]
    },
    {
     "name": "stderr",
     "output_type": "stream",
     "text": [
      "100%|██████████████████████████████████████████████████████████████████████████████████| 48/48 [00:47<00:00,  1.00it/s]\n"
     ]
    },
    {
     "name": "stdout",
     "output_type": "stream",
     "text": [
      "Epoch:5, Loss:944.2628\n"
     ]
    },
    {
     "name": "stderr",
     "output_type": "stream",
     "text": [
      "100%|██████████████████████████████████████████████████████████████████████████████████| 48/48 [00:44<00:00,  1.08it/s]\n"
     ]
    },
    {
     "name": "stdout",
     "output_type": "stream",
     "text": [
      "Epoch:6, Loss:356.5596\n"
     ]
    },
    {
     "name": "stderr",
     "output_type": "stream",
     "text": [
      "100%|██████████████████████████████████████████████████████████████████████████████████| 48/48 [00:47<00:00,  1.01it/s]\n"
     ]
    },
    {
     "name": "stdout",
     "output_type": "stream",
     "text": [
      "Epoch:7, Loss:293.9054\n"
     ]
    },
    {
     "name": "stderr",
     "output_type": "stream",
     "text": [
      "100%|██████████████████████████████████████████████████████████████████████████████████| 48/48 [00:47<00:00,  1.01it/s]\n"
     ]
    },
    {
     "name": "stdout",
     "output_type": "stream",
     "text": [
      "Epoch:8, Loss:286.5859\n"
     ]
    },
    {
     "name": "stderr",
     "output_type": "stream",
     "text": [
      "100%|██████████████████████████████████████████████████████████████████████████████████| 48/48 [00:47<00:00,  1.01it/s]\n"
     ]
    },
    {
     "name": "stdout",
     "output_type": "stream",
     "text": [
      "Epoch:9, Loss:516.3615\n"
     ]
    },
    {
     "name": "stderr",
     "output_type": "stream",
     "text": [
      "100%|██████████████████████████████████████████████████████████████████████████████████| 48/48 [00:47<00:00,  1.01it/s]\n"
     ]
    },
    {
     "name": "stdout",
     "output_type": "stream",
     "text": [
      "Epoch:10, Loss:622.3741\n"
     ]
    },
    {
     "name": "stderr",
     "output_type": "stream",
     "text": [
      "100%|██████████████████████████████████████████████████████████████████████████████████| 48/48 [00:47<00:00,  1.00it/s]\n"
     ]
    },
    {
     "name": "stdout",
     "output_type": "stream",
     "text": [
      "Epoch:11, Loss:351.6432\n"
     ]
    },
    {
     "name": "stderr",
     "output_type": "stream",
     "text": [
      "100%|██████████████████████████████████████████████████████████████████████████████████| 48/48 [00:47<00:00,  1.01it/s]\n"
     ]
    },
    {
     "name": "stdout",
     "output_type": "stream",
     "text": [
      "Epoch:12, Loss:333.7725\n"
     ]
    },
    {
     "name": "stderr",
     "output_type": "stream",
     "text": [
      "100%|██████████████████████████████████████████████████████████████████████████████████| 48/48 [00:47<00:00,  1.00it/s]\n"
     ]
    },
    {
     "name": "stdout",
     "output_type": "stream",
     "text": [
      "Epoch:13, Loss:241.3764\n"
     ]
    },
    {
     "name": "stderr",
     "output_type": "stream",
     "text": [
      "100%|██████████████████████████████████████████████████████████████████████████████████| 48/48 [00:47<00:00,  1.00it/s]\n"
     ]
    },
    {
     "name": "stdout",
     "output_type": "stream",
     "text": [
      "Epoch:14, Loss:312.1520\n"
     ]
    },
    {
     "name": "stderr",
     "output_type": "stream",
     "text": [
      "100%|██████████████████████████████████████████████████████████████████████████████████| 48/48 [00:47<00:00,  1.00it/s]\n"
     ]
    },
    {
     "name": "stdout",
     "output_type": "stream",
     "text": [
      "Epoch:15, Loss:496.6602\n"
     ]
    },
    {
     "name": "stderr",
     "output_type": "stream",
     "text": [
      "100%|██████████████████████████████████████████████████████████████████████████████████| 48/48 [00:48<00:00,  1.02s/it]\n"
     ]
    },
    {
     "name": "stdout",
     "output_type": "stream",
     "text": [
      "Epoch:16, Loss:233.6915\n"
     ]
    },
    {
     "name": "stderr",
     "output_type": "stream",
     "text": [
      "100%|██████████████████████████████████████████████████████████████████████████████████| 48/48 [00:48<00:00,  1.02s/it]\n"
     ]
    },
    {
     "name": "stdout",
     "output_type": "stream",
     "text": [
      "Epoch:17, Loss:498.4997\n"
     ]
    },
    {
     "name": "stderr",
     "output_type": "stream",
     "text": [
      "100%|██████████████████████████████████████████████████████████████████████████████████| 48/48 [00:48<00:00,  1.02s/it]\n"
     ]
    },
    {
     "name": "stdout",
     "output_type": "stream",
     "text": [
      "Epoch:18, Loss:425.1733\n"
     ]
    },
    {
     "name": "stderr",
     "output_type": "stream",
     "text": [
      "100%|██████████████████████████████████████████████████████████████████████████████████| 48/48 [00:48<00:00,  1.02s/it]\n"
     ]
    },
    {
     "name": "stdout",
     "output_type": "stream",
     "text": [
      "Epoch:19, Loss:574.2766\n"
     ]
    },
    {
     "name": "stderr",
     "output_type": "stream",
     "text": [
      "100%|██████████████████████████████████████████████████████████████████████████████████| 48/48 [00:47<00:00,  1.00it/s]\n"
     ]
    },
    {
     "name": "stdout",
     "output_type": "stream",
     "text": [
      "Epoch:20, Loss:393.1964\n"
     ]
    },
    {
     "name": "stderr",
     "output_type": "stream",
     "text": [
      "100%|██████████████████████████████████████████████████████████████████████████████████| 48/48 [00:48<00:00,  1.02s/it]\n"
     ]
    },
    {
     "name": "stdout",
     "output_type": "stream",
     "text": [
      "Epoch:21, Loss:360.1506\n"
     ]
    },
    {
     "name": "stderr",
     "output_type": "stream",
     "text": [
      "100%|██████████████████████████████████████████████████████████████████████████████████| 48/48 [00:48<00:00,  1.02s/it]\n"
     ]
    },
    {
     "name": "stdout",
     "output_type": "stream",
     "text": [
      "Epoch:22, Loss:485.8784\n"
     ]
    },
    {
     "name": "stderr",
     "output_type": "stream",
     "text": [
      "100%|██████████████████████████████████████████████████████████████████████████████████| 48/48 [00:48<00:00,  1.02s/it]\n"
     ]
    },
    {
     "name": "stdout",
     "output_type": "stream",
     "text": [
      "Epoch:23, Loss:1251.2225\n"
     ]
    },
    {
     "name": "stderr",
     "output_type": "stream",
     "text": [
      "100%|██████████████████████████████████████████████████████████████████████████████████| 48/48 [00:48<00:00,  1.02s/it]\n"
     ]
    },
    {
     "name": "stdout",
     "output_type": "stream",
     "text": [
      "Epoch:24, Loss:406.2216\n"
     ]
    },
    {
     "name": "stderr",
     "output_type": "stream",
     "text": [
      "100%|██████████████████████████████████████████████████████████████████████████████████| 48/48 [00:48<00:00,  1.02s/it]\n"
     ]
    },
    {
     "name": "stdout",
     "output_type": "stream",
     "text": [
      "Epoch:25, Loss:389.8959\n"
     ]
    }
   ],
   "source": [
    "outputs = []\n",
    "for epoch in range(num_epochs):\n",
    "    os.chdir(r'E:\\\\College\\\\FCAI-4th Year\\\\First Term\\\\Generative Adversarial Networks\\\\Assginments\\\\Assginment 3\\\\train_modified\\\\train')\n",
    "    for batch_idx, (image, targets) in enumerate(tqdm(train_loader)):\n",
    "        image = (image.float()).to(device=device)\n",
    "        targets = (targets.float()).to(device=device)\n",
    "        image += (torch.normal(0, 35, size=(3, 128, 128))).to(device=device)\n",
    "        recon = model(image)\n",
    "        loss = criterion(recon, targets)\n",
    "        optimizer.zero_grad()\n",
    "        loss.backward()\n",
    "        optimizer.step()\n",
    "    scheduler.step()\n",
    "    print(f'Epoch:{epoch+1}, Loss:{loss.item():.4f}')"
   ]
  }
 ],
 "metadata": {
  "kernelspec": {
   "display_name": "Python 3 (ipykernel)",
   "language": "python",
   "name": "python3"
  },
  "language_info": {
   "codemirror_mode": {
    "name": "ipython",
    "version": 3
   },
   "file_extension": ".py",
   "mimetype": "text/x-python",
   "name": "python",
   "nbconvert_exporter": "python",
   "pygments_lexer": "ipython3",
   "version": "3.9.7"
  }
 },
 "nbformat": 4,
 "nbformat_minor": 5
}
